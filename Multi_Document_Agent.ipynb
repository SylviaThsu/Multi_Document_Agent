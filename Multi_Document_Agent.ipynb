{
 "cells": [
  {
   "cell_type": "code",
   "execution_count": null,
   "id": "2fc60f6e",
   "metadata": {},
   "outputs": [],
   "source": [
    "# Hi"
   ]
  },
  {
   "cell_type": "markdown",
   "id": "b74acc1f",
   "metadata": {},
   "source": [
    "------\n",
    "<!--- markdown-next --->\n",
    "# Llamaindex with Multi-Document Agents\n",
    "\n",
    "In this notebook we will look into Building RAG when you have a large number of documents using `DocumentAgents` concept with `ReAct Agent`.\n",
    "\n",
    "------\n",
    "<!--- markdown-next --->\n",
    "### Installation\n",
    "\n",
    "------\n",
    "<!--- code-next --->"
   ]
  },
  {
   "cell_type": "code",
   "execution_count": null,
   "id": "0c1bc699",
   "metadata": {},
   "outputs": [],
   "source": [
    "%pip install -q llama-index\n",
    "%pip install -q llama-index-llms-groq\n",
    "%pip install -q llama-index-embeddings-huggingface\n"
   ]
  },
  {
   "cell_type": "markdown",
   "id": "50287942",
   "metadata": {},
   "source": [
    "------\n",
    "<!--- markdown-next --->\n",
    "### Set Logging\n",
    "\n",
    "------\n",
    "<!--- code-next --->"
   ]
  },
  {
   "cell_type": "code",
   "execution_count": null,
   "id": "7c01b418",
   "metadata": {},
   "outputs": [],
   "source": [
    "# NOTE: This is ONLY necessary in jupyter notebook.\n",
    "# Details: Jupyter runs an event-loop behind the scenes.\n",
    "#          This results in nested event-loops when we start an event-loop to make async queries.\n",
    "#          This is normally not allowed, we use nest_asyncio to allow it for convenience.\n",
    "import nest_asyncio\n",
    "\n",
    "nest_asyncio.apply()\n",
    "\n",
    "import logging\n",
    "import sys\n",
    "\n",
    "# Set up the root logger\n",
    "logger = logging.getLogger()\n",
    "logger.setLevel(logging.INFO)  # Set logger level to INFO\n",
    "\n",
    "# Clear out any existing handlers\n",
    "logger.handlers = []\n",
    "\n",
    "# Set up the StreamHandler to output to sys.stdout (Colab's output)\n",
    "handler = logging.StreamHandler(sys.stdout)\n",
    "handler.setLevel(logging.INFO)  # Set handler level to INFO\n",
    "\n",
    "# Add the handler to the logger\n",
    "logger.addHandler(handler)\n",
    "\n",
    "from IPython.display import display, HTML\n"
   ]
  },
  {
   "cell_type": "markdown",
   "id": "fbb430b1",
   "metadata": {},
   "source": [
    "------\n",
    "<!--- markdown-next --->\n",
    "### Setup and imports\n",
    "\n",
    "------\n",
    "<!--- code-next --->"
   ]
  },
  {
   "cell_type": "code",
   "execution_count": null,
   "id": "37b0a622",
   "metadata": {},
   "outputs": [],
   "source": [
    "from llama_index.core import (\n",
    "    VectorStoreIndex,\n",
    "    SimpleDirectoryReader,\n",
    "    StorageContext,\n",
    "    load_index_from_storage\n",
    ")\n",
    "from llama_index.core.settings import Settings\n",
    "from llama_index.llms.groq import Groq\n",
    "from llama_index.embeddings.huggingface import HuggingFaceEmbedding\n"
   ]
  },
  {
   "cell_type": "markdown",
   "id": "61a0238a",
   "metadata": {},
   "source": [
    "<!--- code-out#0001 --->\n",
    "\n",
    "------\n",
    "<!--- code-next --->"
   ]
  },
  {
   "cell_type": "code",
   "execution_count": null,
   "id": "d66fbd78",
   "metadata": {},
   "outputs": [],
   "source": [
    "from google.colab import userdata\n",
    "\n",
    "llm = Groq(model=\"llama3-groq-70b-8192-tool-use-preview\", api_key=userdata.get('GROQ_API_KEY'))\n",
    "embed_model = HuggingFaceEmbedding(model_name=\"BAAI/bge-small-en-v1.5\")\n"
   ]
  },
  {
   "cell_type": "markdown",
   "id": "2f7430ef",
   "metadata": {},
   "source": [
    "<!--- code-out#0002 --->\n",
    "\n",
    "------\n",
    "<!--- code-next --->"
   ]
  },
  {
   "cell_type": "code",
   "execution_count": null,
   "id": "3939746d",
   "metadata": {},
   "outputs": [],
   "source": [
    "from llama_index.core import Settings\n",
    "Settings.llm = llm\n",
    "Settings.embed_model = embed_model\n",
    "Settings.chunk_size = 512\n"
   ]
  },
  {
   "cell_type": "markdown",
   "id": "56392454",
   "metadata": {},
   "source": [
    "------\n",
    "<!--- markdown-next --->\n",
    "### Download Documents\n",
    "\n",
    "We will use Wikipedia pages of `Toronto`, `Seattle`, `Chicago`, `Boston`, `Houston` cities and build RAG pipeline.\n",
    "\n",
    "------\n",
    "<!--- code-next --->"
   ]
  },
  {
   "cell_type": "code",
   "execution_count": null,
   "id": "dbafe1b9",
   "metadata": {},
   "outputs": [],
   "source": [
    "wiki_titles = [\"Toronto\", \"Seattle\", \"Chicago\", \"Boston\", \"Houston\"]\n",
    "\n",
    "from pathlib import Path\n",
    "\n",
    "import requests\n",
    "\n",
    "for title in wiki_titles:\n",
    "    response = requests.get(\n",
    "        \"https://en.wikipedia.org/w/api.php\",\n",
    "        params={\n",
    "            \"action\": \"query\",\n",
    "            \"format\": \"json\",\n",
    "            \"titles\": title,\n",
    "            \"prop\": \"extracts\",\n",
    "            # 'exintro': True,\n",
    "            \"explaintext\": True,\n",
    "        },\n",
    "    ).json()\n",
    "    page = next(iter(response[\"query\"][\"pages\"].values()))\n",
    "    wiki_text = page[\"extract\"]\n",
    "\n",
    "    data_path = Path(\"data\")\n",
    "    if not data_path.exists():\n",
    "        Path.mkdir(data_path)\n",
    "\n",
    "    with open(data_path / f\"{title}.txt\", \"w\") as fp:\n",
    "        fp.write(wiki_text)\n"
   ]
  },
  {
   "cell_type": "markdown",
   "id": "6ee94630",
   "metadata": {},
   "source": [
    "------\n",
    "<!--- markdown-next --->\n",
    "### Load Document\n",
    "\n",
    "------\n",
    "<!--- code-next --->"
   ]
  },
  {
   "cell_type": "code",
   "execution_count": null,
   "id": "0af3b386",
   "metadata": {},
   "outputs": [],
   "source": [
    "# Load all wiki documents\n",
    "\n",
    "from llama_index.core import SimpleDirectoryReader\n",
    "\n",
    "city_docs = {}\n",
    "for wiki_title in wiki_titles:\n",
    "    city_docs[wiki_title] = SimpleDirectoryReader(\n",
    "        input_files=[f\"data/{wiki_title}.txt\"]\n",
    "    ).load_data()\n"
   ]
  },
  {
   "cell_type": "markdown",
   "id": "db68895f",
   "metadata": {},
   "source": [
    "------\n",
    "<!--- markdown-next --->\n",
    "#### Build ReAct Agent for each city\n",
    "\n",
    "------\n",
    "<!--- code-next --->"
   ]
  },
  {
   "cell_type": "code",
   "execution_count": null,
   "id": "342e9bc1",
   "metadata": {},
   "outputs": [],
   "source": [
    "from llama_index.core.agent import ReActAgent\n",
    "from llama_index.core import VectorStoreIndex, SummaryIndex\n",
    "from llama_index.core.tools import QueryEngineTool, ToolMetadata\n",
    "\n",
    "# Build agents dictionary\n",
    "agents = {}\n",
    "\n",
    "for wiki_title in wiki_titles:\n",
    "    # build vector index\n",
    "    vector_index = VectorStoreIndex.from_documents(\n",
    "        city_docs[wiki_title],\n",
    "    )\n",
    "    # build summary index\n",
    "    summary_index = SummaryIndex.from_documents(\n",
    "        city_docs[wiki_title],\n",
    "    )\n",
    "    # define query engines\n",
    "    vector_query_engine = vector_index.as_query_engine()\n",
    "    summary_query_engine = summary_index.as_query_engine()\n",
    "\n",
    "    # define tools\n",
    "    query_engine_tools = [\n",
    "        QueryEngineTool(\n",
    "            query_engine=vector_query_engine,\n",
    "            metadata=ToolMetadata(\n",
    "                name=\"vector_tool\",\n",
    "                description=(\n",
    "                    f\"Useful for retrieving specific context from {wiki_title}\"\n",
    "                ),\n",
    "            ),\n",
    "        ),\n",
    "        QueryEngineTool(\n",
    "            query_engine=summary_query_engine,\n",
    "            metadata=ToolMetadata(\n",
    "                name=\"summary_tool\",\n",
    "                description=(\n",
    "                    \"Useful for summarization questions related to\"\n",
    "                    f\" {wiki_title}\"\n",
    "                ),\n",
    "            ),\n",
    "        ),\n",
    "    ]\n",
    "\n",
    "    # build agent\n",
    "    agent = ReActAgent.from_tools(\n",
    "        query_engine_tools,\n",
    "        llm=llm,\n",
    "        verbose=True,\n",
    "    )\n",
    "\n",
    "    agents[wiki_title] = agent\n"
   ]
  },
  {
   "cell_type": "markdown",
   "id": "e80d3433",
   "metadata": {},
   "source": [
    "<!--- code-out#0003 --->\n",
    "\n",
    "------\n",
    "<!--- markdown-next --->\n",
    "#### Define IndexNode for each of these Agents\n",
    "\n",
    "------\n",
    "<!--- code-next --->"
   ]
  },
  {
   "cell_type": "code",
   "execution_count": null,
   "id": "f0f4386e",
   "metadata": {},
   "outputs": [],
   "source": [
    "from llama_index.core.schema import IndexNode\n",
    "\n",
    "# define top-level nodes\n",
    "objects = []\n",
    "for wiki_title in wiki_titles:\n",
    "    # define index node that links to these agents\n",
    "    wiki_summary = (\n",
    "        f\"This content contains Wikipedia articles about {wiki_title}. Use\"\n",
    "        \" this index if you need to lookup specific facts about\"\n",
    "        f\" {wiki_title}.\\nDo not use this index if you want to analyze\"\n",
    "        \" multiple cities.\"\n",
    "    )\n",
    "    node = IndexNode(\n",
    "        text=wiki_summary, index_id=wiki_title, obj=agents[wiki_title]\n",
    "    )\n",
    "    objects.append(node)\n"
   ]
  },
  {
   "cell_type": "markdown",
   "id": "af720946",
   "metadata": {},
   "source": [
    "------\n",
    "<!--- markdown-next --->\n",
    "#### Define Top-Level Retriever to choose an Agent\n",
    "\n",
    "------\n",
    "<!--- code-next --->"
   ]
  },
  {
   "cell_type": "code",
   "execution_count": null,
   "id": "7daf8a74",
   "metadata": {},
   "outputs": [],
   "source": [
    "vector_index = VectorStoreIndex(\n",
    "    objects=objects,\n",
    ")\n",
    "query_engine = vector_index.as_query_engine(similarity_top_k=1, verbose=True)\n"
   ]
  },
  {
   "cell_type": "markdown",
   "id": "3f491bdb",
   "metadata": {},
   "source": [
    "<!--- code-out#0004 --->\n",
    "\n",
    "\n",
    "------\n",
    "<!--- markdown-next --->\n",
    "#### Test Queries\n",
    "\n",
    "Should choose a vector tool/ summary tool for a specific agent based on the query.\n",
    "\n",
    "------\n",
    "<!--- code-next --->"
   ]
  },
  {
   "cell_type": "code",
   "execution_count": null,
   "id": "d98574c2",
   "metadata": {},
   "outputs": [],
   "source": [
    "# Helper function for print\n",
    "def print_response(response):\n",
    "    display(HTML(f'<p style=\"font-size:20px\">{response.response}</p>'))"
   ]
  },
  {
   "cell_type": "markdown",
   "id": "c8752e0f",
   "metadata": {},
   "source": [
    "------\n",
    "<!--- code-next --->"
   ]
  },
  {
   "cell_type": "code",
   "execution_count": null,
   "id": "5ee0ad58",
   "metadata": {},
   "outputs": [],
   "source": [
    "# should use Toronto agent -> vector tool\n",
    "response = query_engine.query(\"What is the population of Toronto?\")\n"
   ]
  },
  {
   "cell_type": "markdown",
   "id": "93a462d1",
   "metadata": {},
   "source": [
    "<!--- code-out#0005 --->\n",
    "\n",
    "------\n",
    "<!--- code-next --->"
   ]
  },
  {
   "cell_type": "code",
   "execution_count": null,
   "id": "fcc1df90",
   "metadata": {},
   "outputs": [],
   "source": [
    "print_response(response)"
   ]
  },
  {
   "cell_type": "markdown",
   "id": "2ee63fa1",
   "metadata": {},
   "source": [
    "<!--- code-out#0006 --->\n",
    "\n",
    "------\n",
    "<!--- code-next --->"
   ]
  },
  {
   "cell_type": "code",
   "execution_count": null,
   "id": "8ed5e88c",
   "metadata": {},
   "outputs": [],
   "source": [
    "# should use Houston agent -> vector tool\n",
    "response = query_engine.query(\"Who and when was Houston founded?\")\n"
   ]
  },
  {
   "cell_type": "markdown",
   "id": "8cc0e88a",
   "metadata": {},
   "source": [
    "<!--- code-out#0007 --->\n",
    "\n",
    "------\n",
    "<!--- code-next --->"
   ]
  },
  {
   "cell_type": "code",
   "execution_count": null,
   "id": "c1fd70c3",
   "metadata": {},
   "outputs": [],
   "source": [
    "print_response(response)"
   ]
  },
  {
   "cell_type": "markdown",
   "id": "85f985c5",
   "metadata": {},
   "source": [
    "<!--- code-out#0008 --->\n",
    "\n",
    "------\n",
    "<!--- code-next --->"
   ]
  },
  {
   "cell_type": "code",
   "execution_count": null,
   "id": "55f17e68",
   "metadata": {},
   "outputs": [],
   "source": [
    "# should use Boston agent -> summary tool\n",
    "response = query_engine.query(\"Summarize about the sports teams in Boston\")\n"
   ]
  },
  {
   "cell_type": "markdown",
   "id": "8bb3736b",
   "metadata": {},
   "source": [
    "<!--- code-out#0009 --->\n",
    "\n",
    "------\n",
    "<!--- code-next --->"
   ]
  },
  {
   "cell_type": "code",
   "execution_count": null,
   "id": "14139e1c",
   "metadata": {},
   "outputs": [],
   "source": [
    "print_response(response)"
   ]
  },
  {
   "cell_type": "markdown",
   "id": "35ddc201",
   "metadata": {},
   "source": [
    "<!--- code-out#0010 --->\n",
    "\n",
    "------\n",
    "<!--- code-next --->"
   ]
  },
  {
   "cell_type": "code",
   "execution_count": null,
   "id": "2cf78b68",
   "metadata": {},
   "outputs": [],
   "source": [
    "# should use Seattle agent -> summary tool\n",
    "response = query_engine.query(\n",
    "    \"Give me a summary on all the positive aspects of Chicago\"\n",
    ")\n"
   ]
  },
  {
   "cell_type": "markdown",
   "id": "a05903fe",
   "metadata": {},
   "source": [
    "<!--- code-out#0011 --->\n",
    "\n",
    "------\n",
    "<!--- code-next --->"
   ]
  },
  {
   "cell_type": "code",
   "execution_count": null,
   "id": "c1525426",
   "metadata": {},
   "outputs": [],
   "source": [
    "print_response(response)"
   ]
  },
  {
   "cell_type": "markdown",
   "id": "28395cfc",
   "metadata": {},
   "source": [
    "<!--- code-out#0012 --->\n",
    "\n",
    "------\n",
    "<!--- code-next --->"
   ]
  },
  {
   "cell_type": "code",
   "execution_count": null,
   "id": "4c3f71a3",
   "metadata": {},
   "outputs": [],
   "source": []
  },
  {
   "cell_type": "code",
   "execution_count": null,
   "id": "8dffd823",
   "metadata": {},
   "outputs": [],
   "source": [
    "response = query_engine.query(\n",
    "    \"Tell me how many shows has Shen Yun performed in 2023.\"\n",
    ")"
   ]
  }
 ],
 "metadata": {
  "language_info": {
   "name": "python"
  }
 },
 "nbformat": 4,
 "nbformat_minor": 5
}
